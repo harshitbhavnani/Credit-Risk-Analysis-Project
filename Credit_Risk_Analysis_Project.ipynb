{
  "nbformat": 4,
  "nbformat_minor": 0,
  "metadata": {
    "colab": {
      "name": "Credit Risk Analysis Project.ipynb",
      "provenance": [],
      "collapsed_sections": [],
      "authorship_tag": "ABX9TyMFrilsQHkZXYo+Zf+RMd/r",
      "include_colab_link": true
    },
    "kernelspec": {
      "name": "python3",
      "display_name": "Python 3"
    },
    "accelerator": "GPU"
  },
  "cells": [
    {
      "cell_type": "markdown",
      "metadata": {
        "id": "view-in-github",
        "colab_type": "text"
      },
      "source": [
        "<a href=\"https://colab.research.google.com/github/harshitbhavnani/Credit-Risk-Analysis-Project/blob/main/Credit_Risk_Analysis_Project.ipynb\" target=\"_parent\"><img src=\"https://colab.research.google.com/assets/colab-badge.svg\" alt=\"Open In Colab\"/></a>"
      ]
    },
    {
      "cell_type": "markdown",
      "metadata": {
        "id": "ygpIl_d3ylRR"
      },
      "source": [
        "Dataset: https://archive.ics.uci.edu/ml/datasets/default+of+credit+card+clients#\n"
      ]
    },
    {
      "cell_type": "markdown",
      "metadata": {
        "id": "Zj0R9BmYN2XM"
      },
      "source": [
        "**Importing Libraries**"
      ]
    },
    {
      "cell_type": "code",
      "metadata": {
        "id": "US1_s6Wll3qM",
        "colab": {
          "base_uri": "https://localhost:8080/"
        },
        "outputId": "d03b0813-4ad1-4cfc-bb21-9e670324e470"
      },
      "source": [
        "import warnings\n",
        "warnings.filterwarnings('ignore')\n",
        "\n",
        "!pip install scikit-learn==0.22.1"
      ],
      "execution_count": null,
      "outputs": [
        {
          "output_type": "stream",
          "name": "stdout",
          "text": [
            "Requirement already satisfied: scikit-learn==0.22.1 in /usr/local/lib/python3.7/dist-packages (0.22.1)\n",
            "Requirement already satisfied: numpy>=1.11.0 in /usr/local/lib/python3.7/dist-packages (from scikit-learn==0.22.1) (1.19.5)\n",
            "Requirement already satisfied: joblib>=0.11 in /usr/local/lib/python3.7/dist-packages (from scikit-learn==0.22.1) (1.1.0)\n",
            "Requirement already satisfied: scipy>=0.17.0 in /usr/local/lib/python3.7/dist-packages (from scikit-learn==0.22.1) (1.4.1)\n"
          ]
        }
      ]
    },
    {
      "cell_type": "code",
      "metadata": {
        "id": "ij1AtTmTMAIe"
      },
      "source": [
        "import pandas as pd\n",
        "import numpy as np\n",
        "\n",
        "from sklearn.model_selection import train_test_split\n",
        "\n",
        "from sklearn.linear_model import LogisticRegression\n",
        "from sklearn.ensemble import RandomForestClassifier\n",
        "from sklearn.ensemble import GradientBoostingClassifier\n",
        "from sklearn.tree import DecisionTreeClassifier\n",
        "from sklearn.neighbors.classification import KNeighborsClassifier\n",
        "from sklearn.linear_model.stochastic_gradient import SGDClassifier\n",
        "from sklearn.naive_bayes import GaussianNB\n",
        "from sklearn.discriminant_analysis import LinearDiscriminantAnalysis\n",
        "from sklearn.svm import SVC\n",
        "from sklearn.ensemble.weight_boosting import AdaBoostClassifier\n",
        "from xgboost import XGBClassifier\n",
        "\n",
        "from sklearn.metrics import accuracy_score\n",
        "from sklearn.metrics import recall_score\n",
        "from sklearn.metrics import precision_score\n",
        "from sklearn.metrics import f1_score\n",
        "\n",
        "from sklearn.model_selection import GridSearchCV"
      ],
      "execution_count": null,
      "outputs": []
    },
    {
      "cell_type": "markdown",
      "metadata": {
        "id": "_YuMaBJfN6PY"
      },
      "source": [
        "**Loading Dataset**"
      ]
    },
    {
      "cell_type": "code",
      "metadata": {
        "colab": {
          "base_uri": "https://localhost:8080/",
          "height": 270
        },
        "id": "zP-IOpnTMu62",
        "outputId": "059066a2-6420-4f94-fc6a-7cfe86ea29aa"
      },
      "source": [
        "df=pd.read_csv(\"dataset.csv\")\n",
        "df.head(5)"
      ],
      "execution_count": null,
      "outputs": [
        {
          "output_type": "execute_result",
          "data": {
            "text/html": [
              "\n",
              "  <div id=\"df-799e9fc3-d4f8-4cea-91b6-caa300e272f0\">\n",
              "    <div class=\"colab-df-container\">\n",
              "      <div>\n",
              "<style scoped>\n",
              "    .dataframe tbody tr th:only-of-type {\n",
              "        vertical-align: middle;\n",
              "    }\n",
              "\n",
              "    .dataframe tbody tr th {\n",
              "        vertical-align: top;\n",
              "    }\n",
              "\n",
              "    .dataframe thead th {\n",
              "        text-align: right;\n",
              "    }\n",
              "</style>\n",
              "<table border=\"1\" class=\"dataframe\">\n",
              "  <thead>\n",
              "    <tr style=\"text-align: right;\">\n",
              "      <th></th>\n",
              "      <th>ID</th>\n",
              "      <th>LIMIT_BAL</th>\n",
              "      <th>SEX</th>\n",
              "      <th>EDUCATION</th>\n",
              "      <th>MARRIAGE</th>\n",
              "      <th>AGE</th>\n",
              "      <th>PAY_0</th>\n",
              "      <th>PAY_2</th>\n",
              "      <th>PAY_3</th>\n",
              "      <th>PAY_4</th>\n",
              "      <th>PAY_5</th>\n",
              "      <th>PAY_6</th>\n",
              "      <th>BILL_AMT1</th>\n",
              "      <th>BILL_AMT2</th>\n",
              "      <th>BILL_AMT3</th>\n",
              "      <th>BILL_AMT4</th>\n",
              "      <th>BILL_AMT5</th>\n",
              "      <th>BILL_AMT6</th>\n",
              "      <th>PAY_AMT1</th>\n",
              "      <th>PAY_AMT2</th>\n",
              "      <th>PAY_AMT3</th>\n",
              "      <th>PAY_AMT4</th>\n",
              "      <th>PAY_AMT5</th>\n",
              "      <th>PAY_AMT6</th>\n",
              "      <th>default.payment.next.month</th>\n",
              "    </tr>\n",
              "  </thead>\n",
              "  <tbody>\n",
              "    <tr>\n",
              "      <th>0</th>\n",
              "      <td>1</td>\n",
              "      <td>20000.0</td>\n",
              "      <td>2</td>\n",
              "      <td>2</td>\n",
              "      <td>1</td>\n",
              "      <td>24</td>\n",
              "      <td>2</td>\n",
              "      <td>2</td>\n",
              "      <td>-1</td>\n",
              "      <td>-1</td>\n",
              "      <td>-2</td>\n",
              "      <td>-2</td>\n",
              "      <td>3913.0</td>\n",
              "      <td>3102.0</td>\n",
              "      <td>689.0</td>\n",
              "      <td>0.0</td>\n",
              "      <td>0.0</td>\n",
              "      <td>0.0</td>\n",
              "      <td>0.0</td>\n",
              "      <td>689.0</td>\n",
              "      <td>0.0</td>\n",
              "      <td>0.0</td>\n",
              "      <td>0.0</td>\n",
              "      <td>0.0</td>\n",
              "      <td>1</td>\n",
              "    </tr>\n",
              "    <tr>\n",
              "      <th>1</th>\n",
              "      <td>2</td>\n",
              "      <td>120000.0</td>\n",
              "      <td>2</td>\n",
              "      <td>2</td>\n",
              "      <td>2</td>\n",
              "      <td>26</td>\n",
              "      <td>-1</td>\n",
              "      <td>2</td>\n",
              "      <td>0</td>\n",
              "      <td>0</td>\n",
              "      <td>0</td>\n",
              "      <td>2</td>\n",
              "      <td>2682.0</td>\n",
              "      <td>1725.0</td>\n",
              "      <td>2682.0</td>\n",
              "      <td>3272.0</td>\n",
              "      <td>3455.0</td>\n",
              "      <td>3261.0</td>\n",
              "      <td>0.0</td>\n",
              "      <td>1000.0</td>\n",
              "      <td>1000.0</td>\n",
              "      <td>1000.0</td>\n",
              "      <td>0.0</td>\n",
              "      <td>2000.0</td>\n",
              "      <td>1</td>\n",
              "    </tr>\n",
              "    <tr>\n",
              "      <th>2</th>\n",
              "      <td>3</td>\n",
              "      <td>90000.0</td>\n",
              "      <td>2</td>\n",
              "      <td>2</td>\n",
              "      <td>2</td>\n",
              "      <td>34</td>\n",
              "      <td>0</td>\n",
              "      <td>0</td>\n",
              "      <td>0</td>\n",
              "      <td>0</td>\n",
              "      <td>0</td>\n",
              "      <td>0</td>\n",
              "      <td>29239.0</td>\n",
              "      <td>14027.0</td>\n",
              "      <td>13559.0</td>\n",
              "      <td>14331.0</td>\n",
              "      <td>14948.0</td>\n",
              "      <td>15549.0</td>\n",
              "      <td>1518.0</td>\n",
              "      <td>1500.0</td>\n",
              "      <td>1000.0</td>\n",
              "      <td>1000.0</td>\n",
              "      <td>1000.0</td>\n",
              "      <td>5000.0</td>\n",
              "      <td>0</td>\n",
              "    </tr>\n",
              "    <tr>\n",
              "      <th>3</th>\n",
              "      <td>4</td>\n",
              "      <td>50000.0</td>\n",
              "      <td>2</td>\n",
              "      <td>2</td>\n",
              "      <td>1</td>\n",
              "      <td>37</td>\n",
              "      <td>0</td>\n",
              "      <td>0</td>\n",
              "      <td>0</td>\n",
              "      <td>0</td>\n",
              "      <td>0</td>\n",
              "      <td>0</td>\n",
              "      <td>46990.0</td>\n",
              "      <td>48233.0</td>\n",
              "      <td>49291.0</td>\n",
              "      <td>28314.0</td>\n",
              "      <td>28959.0</td>\n",
              "      <td>29547.0</td>\n",
              "      <td>2000.0</td>\n",
              "      <td>2019.0</td>\n",
              "      <td>1200.0</td>\n",
              "      <td>1100.0</td>\n",
              "      <td>1069.0</td>\n",
              "      <td>1000.0</td>\n",
              "      <td>0</td>\n",
              "    </tr>\n",
              "    <tr>\n",
              "      <th>4</th>\n",
              "      <td>5</td>\n",
              "      <td>50000.0</td>\n",
              "      <td>1</td>\n",
              "      <td>2</td>\n",
              "      <td>1</td>\n",
              "      <td>57</td>\n",
              "      <td>-1</td>\n",
              "      <td>0</td>\n",
              "      <td>-1</td>\n",
              "      <td>0</td>\n",
              "      <td>0</td>\n",
              "      <td>0</td>\n",
              "      <td>8617.0</td>\n",
              "      <td>5670.0</td>\n",
              "      <td>35835.0</td>\n",
              "      <td>20940.0</td>\n",
              "      <td>19146.0</td>\n",
              "      <td>19131.0</td>\n",
              "      <td>2000.0</td>\n",
              "      <td>36681.0</td>\n",
              "      <td>10000.0</td>\n",
              "      <td>9000.0</td>\n",
              "      <td>689.0</td>\n",
              "      <td>679.0</td>\n",
              "      <td>0</td>\n",
              "    </tr>\n",
              "  </tbody>\n",
              "</table>\n",
              "</div>\n",
              "      <button class=\"colab-df-convert\" onclick=\"convertToInteractive('df-799e9fc3-d4f8-4cea-91b6-caa300e272f0')\"\n",
              "              title=\"Convert this dataframe to an interactive table.\"\n",
              "              style=\"display:none;\">\n",
              "        \n",
              "  <svg xmlns=\"http://www.w3.org/2000/svg\" height=\"24px\"viewBox=\"0 0 24 24\"\n",
              "       width=\"24px\">\n",
              "    <path d=\"M0 0h24v24H0V0z\" fill=\"none\"/>\n",
              "    <path d=\"M18.56 5.44l.94 2.06.94-2.06 2.06-.94-2.06-.94-.94-2.06-.94 2.06-2.06.94zm-11 1L8.5 8.5l.94-2.06 2.06-.94-2.06-.94L8.5 2.5l-.94 2.06-2.06.94zm10 10l.94 2.06.94-2.06 2.06-.94-2.06-.94-.94-2.06-.94 2.06-2.06.94z\"/><path d=\"M17.41 7.96l-1.37-1.37c-.4-.4-.92-.59-1.43-.59-.52 0-1.04.2-1.43.59L10.3 9.45l-7.72 7.72c-.78.78-.78 2.05 0 2.83L4 21.41c.39.39.9.59 1.41.59.51 0 1.02-.2 1.41-.59l7.78-7.78 2.81-2.81c.8-.78.8-2.07 0-2.86zM5.41 20L4 18.59l7.72-7.72 1.47 1.35L5.41 20z\"/>\n",
              "  </svg>\n",
              "      </button>\n",
              "      \n",
              "  <style>\n",
              "    .colab-df-container {\n",
              "      display:flex;\n",
              "      flex-wrap:wrap;\n",
              "      gap: 12px;\n",
              "    }\n",
              "\n",
              "    .colab-df-convert {\n",
              "      background-color: #E8F0FE;\n",
              "      border: none;\n",
              "      border-radius: 50%;\n",
              "      cursor: pointer;\n",
              "      display: none;\n",
              "      fill: #1967D2;\n",
              "      height: 32px;\n",
              "      padding: 0 0 0 0;\n",
              "      width: 32px;\n",
              "    }\n",
              "\n",
              "    .colab-df-convert:hover {\n",
              "      background-color: #E2EBFA;\n",
              "      box-shadow: 0px 1px 2px rgba(60, 64, 67, 0.3), 0px 1px 3px 1px rgba(60, 64, 67, 0.15);\n",
              "      fill: #174EA6;\n",
              "    }\n",
              "\n",
              "    [theme=dark] .colab-df-convert {\n",
              "      background-color: #3B4455;\n",
              "      fill: #D2E3FC;\n",
              "    }\n",
              "\n",
              "    [theme=dark] .colab-df-convert:hover {\n",
              "      background-color: #434B5C;\n",
              "      box-shadow: 0px 1px 3px 1px rgba(0, 0, 0, 0.15);\n",
              "      filter: drop-shadow(0px 1px 2px rgba(0, 0, 0, 0.3));\n",
              "      fill: #FFFFFF;\n",
              "    }\n",
              "  </style>\n",
              "\n",
              "      <script>\n",
              "        const buttonEl =\n",
              "          document.querySelector('#df-799e9fc3-d4f8-4cea-91b6-caa300e272f0 button.colab-df-convert');\n",
              "        buttonEl.style.display =\n",
              "          google.colab.kernel.accessAllowed ? 'block' : 'none';\n",
              "\n",
              "        async function convertToInteractive(key) {\n",
              "          const element = document.querySelector('#df-799e9fc3-d4f8-4cea-91b6-caa300e272f0');\n",
              "          const dataTable =\n",
              "            await google.colab.kernel.invokeFunction('convertToInteractive',\n",
              "                                                     [key], {});\n",
              "          if (!dataTable) return;\n",
              "\n",
              "          const docLinkHtml = 'Like what you see? Visit the ' +\n",
              "            '<a target=\"_blank\" href=https://colab.research.google.com/notebooks/data_table.ipynb>data table notebook</a>'\n",
              "            + ' to learn more about interactive tables.';\n",
              "          element.innerHTML = '';\n",
              "          dataTable['output_type'] = 'display_data';\n",
              "          await google.colab.output.renderOutput(dataTable, element);\n",
              "          const docLink = document.createElement('div');\n",
              "          docLink.innerHTML = docLinkHtml;\n",
              "          element.appendChild(docLink);\n",
              "        }\n",
              "      </script>\n",
              "    </div>\n",
              "  </div>\n",
              "  "
            ],
            "text/plain": [
              "   ID  LIMIT_BAL  SEX  ...  PAY_AMT5  PAY_AMT6  default.payment.next.month\n",
              "0   1    20000.0    2  ...       0.0       0.0                           1\n",
              "1   2   120000.0    2  ...       0.0    2000.0                           1\n",
              "2   3    90000.0    2  ...    1000.0    5000.0                           0\n",
              "3   4    50000.0    2  ...    1069.0    1000.0                           0\n",
              "4   5    50000.0    1  ...     689.0     679.0                           0\n",
              "\n",
              "[5 rows x 25 columns]"
            ]
          },
          "metadata": {},
          "execution_count": 3
        }
      ]
    },
    {
      "cell_type": "code",
      "metadata": {
        "colab": {
          "base_uri": "https://localhost:8080/"
        },
        "id": "pIDTf2jASt6e",
        "outputId": "25b588c0-1810-42b1-b427-38f06a4b35b4"
      },
      "source": [
        "df.isnull().sum().sum()"
      ],
      "execution_count": null,
      "outputs": [
        {
          "output_type": "execute_result",
          "data": {
            "text/plain": [
              "0"
            ]
          },
          "metadata": {},
          "execution_count": 4
        }
      ]
    },
    {
      "cell_type": "code",
      "metadata": {
        "colab": {
          "base_uri": "https://localhost:8080/"
        },
        "id": "yV9FuDePvSRr",
        "outputId": "59fd80ad-81d6-4190-90cd-9878e41b2526"
      },
      "source": [
        "df.dtypes"
      ],
      "execution_count": null,
      "outputs": [
        {
          "output_type": "execute_result",
          "data": {
            "text/plain": [
              "ID                              int64\n",
              "LIMIT_BAL                     float64\n",
              "SEX                             int64\n",
              "EDUCATION                       int64\n",
              "MARRIAGE                        int64\n",
              "AGE                             int64\n",
              "PAY_0                           int64\n",
              "PAY_2                           int64\n",
              "PAY_3                           int64\n",
              "PAY_4                           int64\n",
              "PAY_5                           int64\n",
              "PAY_6                           int64\n",
              "BILL_AMT1                     float64\n",
              "BILL_AMT2                     float64\n",
              "BILL_AMT3                     float64\n",
              "BILL_AMT4                     float64\n",
              "BILL_AMT5                     float64\n",
              "BILL_AMT6                     float64\n",
              "PAY_AMT1                      float64\n",
              "PAY_AMT2                      float64\n",
              "PAY_AMT3                      float64\n",
              "PAY_AMT4                      float64\n",
              "PAY_AMT5                      float64\n",
              "PAY_AMT6                      float64\n",
              "default.payment.next.month      int64\n",
              "dtype: object"
            ]
          },
          "metadata": {},
          "execution_count": 5
        }
      ]
    },
    {
      "cell_type": "code",
      "metadata": {
        "colab": {
          "base_uri": "https://localhost:8080/"
        },
        "id": "GBiEd5EoEUA5",
        "outputId": "4d3e117c-3712-4333-a8ba-034744ce58b0"
      },
      "source": [
        "df.shape"
      ],
      "execution_count": null,
      "outputs": [
        {
          "output_type": "execute_result",
          "data": {
            "text/plain": [
              "(30000, 25)"
            ]
          },
          "metadata": {},
          "execution_count": 6
        }
      ]
    },
    {
      "cell_type": "code",
      "metadata": {
        "colab": {
          "base_uri": "https://localhost:8080/"
        },
        "id": "tTaCAq8Frd1m",
        "outputId": "dd913559-1067-46de-8b4b-d14d77055b10"
      },
      "source": [
        "df['default.payment.next.month'].value_counts()"
      ],
      "execution_count": null,
      "outputs": [
        {
          "output_type": "execute_result",
          "data": {
            "text/plain": [
              "0    23364\n",
              "1     6636\n",
              "Name: default.payment.next.month, dtype: int64"
            ]
          },
          "metadata": {},
          "execution_count": 7
        }
      ]
    },
    {
      "cell_type": "markdown",
      "metadata": {
        "id": "TJvGfVDLOIhH"
      },
      "source": [
        "# **Preprocessing Data**\n",
        "The column named 'ID' is removed as it is a redundant feature"
      ]
    },
    {
      "cell_type": "code",
      "metadata": {
        "id": "Fcg51s6tNvP7"
      },
      "source": [
        "df = df.drop([\"ID\"],axis=1)"
      ],
      "execution_count": null,
      "outputs": []
    },
    {
      "cell_type": "markdown",
      "metadata": {
        "id": "-KAfXRbvRYrm"
      },
      "source": [
        "Checking for Null values"
      ]
    },
    {
      "cell_type": "code",
      "metadata": {
        "colab": {
          "base_uri": "https://localhost:8080/"
        },
        "id": "tYC38o9wRbBB",
        "outputId": "c8ab1d06-5070-4a15-ef0f-18c4a073314a"
      },
      "source": [
        "df.apply(lambda x: sum(x.isnull()),axis=0)"
      ],
      "execution_count": null,
      "outputs": [
        {
          "output_type": "execute_result",
          "data": {
            "text/plain": [
              "LIMIT_BAL                     0\n",
              "SEX                           0\n",
              "EDUCATION                     0\n",
              "MARRIAGE                      0\n",
              "AGE                           0\n",
              "PAY_0                         0\n",
              "PAY_2                         0\n",
              "PAY_3                         0\n",
              "PAY_4                         0\n",
              "PAY_5                         0\n",
              "PAY_6                         0\n",
              "BILL_AMT1                     0\n",
              "BILL_AMT2                     0\n",
              "BILL_AMT3                     0\n",
              "BILL_AMT4                     0\n",
              "BILL_AMT5                     0\n",
              "BILL_AMT6                     0\n",
              "PAY_AMT1                      0\n",
              "PAY_AMT2                      0\n",
              "PAY_AMT3                      0\n",
              "PAY_AMT4                      0\n",
              "PAY_AMT5                      0\n",
              "PAY_AMT6                      0\n",
              "default.payment.next.month    0\n",
              "dtype: int64"
            ]
          },
          "metadata": {},
          "execution_count": 10
        }
      ]
    },
    {
      "cell_type": "markdown",
      "metadata": {
        "id": "KW4FYkfiO5kv"
      },
      "source": [
        "Column named Pay_0 is renamed to Pay_1 for better understanding"
      ]
    },
    {
      "cell_type": "code",
      "metadata": {
        "id": "cdqFJ-wfOFON"
      },
      "source": [
        "df.rename(columns={'PAY_0':'PAY_1'}, inplace=True)"
      ],
      "execution_count": null,
      "outputs": []
    },
    {
      "cell_type": "markdown",
      "metadata": {
        "id": "Z9-DA8CWQS5U"
      },
      "source": [
        "Reducing levels in the 'Education' column for better results"
      ]
    },
    {
      "cell_type": "code",
      "metadata": {
        "colab": {
          "base_uri": "https://localhost:8080/"
        },
        "id": "hjY_EDV9QNSH",
        "outputId": "49590ceb-1058-4a34-b33d-46079fa232d1"
      },
      "source": [
        "df['EDUCATION'].value_counts()"
      ],
      "execution_count": null,
      "outputs": [
        {
          "output_type": "execute_result",
          "data": {
            "text/plain": [
              "2    14030\n",
              "1    10585\n",
              "3     4917\n",
              "5      280\n",
              "4      123\n",
              "6       51\n",
              "0       14\n",
              "Name: EDUCATION, dtype: int64"
            ]
          },
          "metadata": {},
          "execution_count": 12
        }
      ]
    },
    {
      "cell_type": "code",
      "metadata": {
        "id": "cPsAYnoZQfNG"
      },
      "source": [
        "df[\"EDUCATION\"]=df[\"EDUCATION\"].map({0:4,1:1,2:2,3:3,4:4,5:4,6:4})"
      ],
      "execution_count": null,
      "outputs": []
    },
    {
      "cell_type": "markdown",
      "metadata": {
        "id": "dhxA2T6-QzoN"
      },
      "source": [
        "Merging marriage levels '0' and '3' because they mean the same"
      ]
    },
    {
      "cell_type": "code",
      "metadata": {
        "colab": {
          "base_uri": "https://localhost:8080/"
        },
        "id": "BqFZNfDOQvhQ",
        "outputId": "75d13df0-6e35-49c2-cf04-8852e59d5361"
      },
      "source": [
        "df['MARRIAGE'].value_counts()"
      ],
      "execution_count": null,
      "outputs": [
        {
          "output_type": "execute_result",
          "data": {
            "text/plain": [
              "2    15964\n",
              "1    13659\n",
              "3      323\n",
              "0       54\n",
              "Name: MARRIAGE, dtype: int64"
            ]
          },
          "metadata": {},
          "execution_count": 14
        }
      ]
    },
    {
      "cell_type": "code",
      "metadata": {
        "id": "fb7LApnPQ9Wz"
      },
      "source": [
        "df[\"MARRIAGE\"]=df[\"MARRIAGE\"].map({0:3,1:1,2:2,3:3})"
      ],
      "execution_count": null,
      "outputs": []
    },
    {
      "cell_type": "markdown",
      "metadata": {
        "id": "YiTIrVI4SI4r"
      },
      "source": [
        "**Standardising Data**"
      ]
    },
    {
      "cell_type": "code",
      "metadata": {
        "colab": {
          "base_uri": "https://localhost:8080/"
        },
        "id": "lHQP0o6dSIXr",
        "outputId": "3a6e867c-ea90-4c88-d8a7-bb47bf9ce2cb"
      },
      "source": [
        "from sklearn.preprocessing import MinMaxScaler\n",
        "\n",
        "scaler = MinMaxScaler()\n",
        "scaler.fit_transform(df)"
      ],
      "execution_count": null,
      "outputs": [
        {
          "output_type": "execute_result",
          "data": {
            "text/plain": [
              "array([[0.01010101, 1.        , 0.33333333, ..., 0.        , 0.        ,\n",
              "        1.        ],\n",
              "       [0.11111111, 1.        , 0.33333333, ..., 0.        , 0.00378311,\n",
              "        1.        ],\n",
              "       [0.08080808, 1.        , 0.33333333, ..., 0.00234451, 0.00945777,\n",
              "        0.        ],\n",
              "       ...,\n",
              "       [0.02020202, 0.        , 0.33333333, ..., 0.00468901, 0.00586382,\n",
              "        1.        ],\n",
              "       [0.07070707, 0.        , 0.66666667, ..., 0.12417444, 0.00341236,\n",
              "        1.        ],\n",
              "       [0.04040404, 0.        , 0.33333333, ..., 0.00234451, 0.00189155,\n",
              "        1.        ]])"
            ]
          },
          "metadata": {},
          "execution_count": 16
        }
      ]
    },
    {
      "cell_type": "markdown",
      "metadata": {
        "id": "n2xU2mxxS8Vg"
      },
      "source": [
        "**Splitting Data into Train and Test Data**"
      ]
    },
    {
      "cell_type": "code",
      "metadata": {
        "id": "IzLhY7ETUQcG"
      },
      "source": [
        "X = df.drop('default.payment.next.month',axis=1)\n",
        "y = df['default.payment.next.month']"
      ],
      "execution_count": null,
      "outputs": []
    },
    {
      "cell_type": "code",
      "metadata": {
        "id": "Gj2rixRQS7rR"
      },
      "source": [
        "X_train, X_test, y_train, y_test = train_test_split(X, y, test_size=0.20, random_state=42)"
      ],
      "execution_count": null,
      "outputs": []
    },
    {
      "cell_type": "markdown",
      "metadata": {
        "id": "W9RtR8TZUske"
      },
      "source": [
        "# **Comparing Various Machine Learning Models**"
      ]
    },
    {
      "cell_type": "code",
      "metadata": {
        "id": "JH4avO3nUywq"
      },
      "source": [
        "LogisticRegression = LogisticRegression(random_state=10,max_iter=1000)\n",
        "RandomForest = RandomForestClassifier(random_state=10)\n",
        "GradientBoost = GradientBoostingClassifier(random_state=10)\n",
        "DecisionTree = DecisionTreeClassifier(random_state=10)\n",
        "KNN = KNeighborsClassifier()\n",
        "SGD = SGDClassifier(random_state=10)\n",
        "GaussianNB = GaussianNB()\n",
        "LDA = LinearDiscriminantAnalysis()\n",
        "SVC = SVC(random_state=10)\n",
        "AdaBoost = AdaBoostClassifier(random_state=10)\n",
        "XGB = XGBClassifier(random_state=10)"
      ],
      "execution_count": null,
      "outputs": []
    },
    {
      "cell_type": "code",
      "metadata": {
        "colab": {
          "base_uri": "https://localhost:8080/"
        },
        "id": "pxLA9B5dYoO2",
        "outputId": "1ce4cbbb-7a2f-425b-88e3-059476cf9412"
      },
      "source": [
        "LogisticRegression.fit(X_train,y_train)\n",
        "RandomForest.fit(X_train,y_train)\n",
        "GradientBoost.fit(X_train,y_train)\n",
        "DecisionTree.fit(X_train,y_train)\n",
        "KNN.fit(X_train,y_train)\n",
        "SGD.fit(X_train,y_train)\n",
        "GaussianNB.fit(X_train,y_train)\n",
        "LDA.fit(X_train,y_train)\n",
        "SVC.fit(X_train,y_train)\n",
        "AdaBoost.fit(X_train,y_train)\n",
        "XGB.fit(X_train,y_train)"
      ],
      "execution_count": null,
      "outputs": [
        {
          "output_type": "execute_result",
          "data": {
            "text/plain": [
              "XGBClassifier(base_score=0.5, booster='gbtree', colsample_bylevel=1,\n",
              "              colsample_bynode=1, colsample_bytree=1, gamma=0,\n",
              "              learning_rate=0.1, max_delta_step=0, max_depth=3,\n",
              "              min_child_weight=1, missing=None, n_estimators=100, n_jobs=1,\n",
              "              nthread=None, objective='binary:logistic', random_state=10,\n",
              "              reg_alpha=0, reg_lambda=1, scale_pos_weight=1, seed=None,\n",
              "              silent=None, subsample=1, verbosity=1)"
            ]
          },
          "metadata": {},
          "execution_count": 20
        }
      ]
    },
    {
      "cell_type": "code",
      "metadata": {
        "id": "EQkfNTtobBee"
      },
      "source": [
        "scores = pd.DataFrame(columns=['Logistic Regression',\n",
        "                                      'Random Forest','KNN',\n",
        "                                      'Gradient Boost','SGD',\n",
        "                                      'Decision Tree','LDA','GaussianNB',\n",
        "                                      'XGBoost','SVC','AdaBoost'],\n",
        "                      index=['Accuracy','Recall','Precision','F1'])"
      ],
      "execution_count": null,
      "outputs": []
    },
    {
      "cell_type": "code",
      "metadata": {
        "id": "FD-CZD4DfO6W"
      },
      "source": [
        "y_pred = [None]*11\n",
        "\n",
        "y_pred[0] = LogisticRegression.predict(X_test)\n",
        "y_pred[1] = RandomForest.predict(X_test)\n",
        "y_pred[2] = KNN.predict(X_test)\n",
        "y_pred[3] = GradientBoost.predict(X_test)\n",
        "y_pred[4] = SGD.predict(X_test)\n",
        "y_pred[5] = DecisionTree.predict(X_test)\n",
        "y_pred[6] = LDA.predict(X_test)\n",
        "y_pred[7] = GaussianNB.predict(X_test)\n",
        "y_pred[8] = XGB.predict(X_test)\n",
        "y_pred[9] = SVC.predict(X_test)\n",
        "y_pred[10] = AdaBoost.predict(X_test)"
      ],
      "execution_count": null,
      "outputs": []
    },
    {
      "cell_type": "code",
      "metadata": {
        "id": "_yxEh-H8dMgu"
      },
      "source": [
        "for i in range(11):\n",
        "\n",
        "  scores.iloc[0][i]=accuracy_score(y_test, y_pred[i])\n",
        "  scores.iloc[1][i]=recall_score(y_test, y_pred[i],average='weighted')\n",
        "  scores.iloc[2][i]=precision_score(y_test, y_pred[i],average='weighted')\n",
        "  scores.iloc[3][i]=f1_score(y_test, y_pred[i],average='weighted')"
      ],
      "execution_count": null,
      "outputs": []
    },
    {
      "cell_type": "code",
      "metadata": {
        "colab": {
          "base_uri": "https://localhost:8080/",
          "height": 236
        },
        "id": "7TC3iWEUiX4A",
        "outputId": "796bd12d-8d1c-4b00-cd88-05ee279439e6"
      },
      "source": [
        "scores"
      ],
      "execution_count": null,
      "outputs": [
        {
          "output_type": "execute_result",
          "data": {
            "text/html": [
              "\n",
              "  <div id=\"df-9afc9c0f-5f75-48a7-bee1-dff829762f06\">\n",
              "    <div class=\"colab-df-container\">\n",
              "      <div>\n",
              "<style scoped>\n",
              "    .dataframe tbody tr th:only-of-type {\n",
              "        vertical-align: middle;\n",
              "    }\n",
              "\n",
              "    .dataframe tbody tr th {\n",
              "        vertical-align: top;\n",
              "    }\n",
              "\n",
              "    .dataframe thead th {\n",
              "        text-align: right;\n",
              "    }\n",
              "</style>\n",
              "<table border=\"1\" class=\"dataframe\">\n",
              "  <thead>\n",
              "    <tr style=\"text-align: right;\">\n",
              "      <th></th>\n",
              "      <th>Logistic Regression</th>\n",
              "      <th>Random Forest</th>\n",
              "      <th>KNN</th>\n",
              "      <th>Gradient Boost</th>\n",
              "      <th>SGD</th>\n",
              "      <th>Decision Tree</th>\n",
              "      <th>LDA</th>\n",
              "      <th>GaussianNB</th>\n",
              "      <th>XGBoost</th>\n",
              "      <th>SVC</th>\n",
              "      <th>AdaBoost</th>\n",
              "    </tr>\n",
              "  </thead>\n",
              "  <tbody>\n",
              "    <tr>\n",
              "      <th>Accuracy</th>\n",
              "      <td>0.781167</td>\n",
              "      <td>0.814833</td>\n",
              "      <td>0.756</td>\n",
              "      <td>0.819833</td>\n",
              "      <td>0.781167</td>\n",
              "      <td>0.7295</td>\n",
              "      <td>0.809667</td>\n",
              "      <td>0.3815</td>\n",
              "      <td>0.820833</td>\n",
              "      <td>0.781167</td>\n",
              "      <td>0.816667</td>\n",
              "    </tr>\n",
              "    <tr>\n",
              "      <th>Recall</th>\n",
              "      <td>0.781167</td>\n",
              "      <td>0.814833</td>\n",
              "      <td>0.756</td>\n",
              "      <td>0.819833</td>\n",
              "      <td>0.781167</td>\n",
              "      <td>0.7295</td>\n",
              "      <td>0.809667</td>\n",
              "      <td>0.3815</td>\n",
              "      <td>0.820833</td>\n",
              "      <td>0.781167</td>\n",
              "      <td>0.816667</td>\n",
              "    </tr>\n",
              "    <tr>\n",
              "      <th>Precision</th>\n",
              "      <td>0.610221</td>\n",
              "      <td>0.795513</td>\n",
              "      <td>0.708622</td>\n",
              "      <td>0.802012</td>\n",
              "      <td>0.610221</td>\n",
              "      <td>0.736821</td>\n",
              "      <td>0.789711</td>\n",
              "      <td>0.741742</td>\n",
              "      <td>0.803417</td>\n",
              "      <td>0.610221</td>\n",
              "      <td>0.798529</td>\n",
              "    </tr>\n",
              "    <tr>\n",
              "      <th>F1</th>\n",
              "      <td>0.685193</td>\n",
              "      <td>0.794813</td>\n",
              "      <td>0.721767</td>\n",
              "      <td>0.79783</td>\n",
              "      <td>0.685193</td>\n",
              "      <td>0.73297</td>\n",
              "      <td>0.773427</td>\n",
              "      <td>0.379686</td>\n",
              "      <td>0.798653</td>\n",
              "      <td>0.685193</td>\n",
              "      <td>0.788229</td>\n",
              "    </tr>\n",
              "  </tbody>\n",
              "</table>\n",
              "</div>\n",
              "      <button class=\"colab-df-convert\" onclick=\"convertToInteractive('df-9afc9c0f-5f75-48a7-bee1-dff829762f06')\"\n",
              "              title=\"Convert this dataframe to an interactive table.\"\n",
              "              style=\"display:none;\">\n",
              "        \n",
              "  <svg xmlns=\"http://www.w3.org/2000/svg\" height=\"24px\"viewBox=\"0 0 24 24\"\n",
              "       width=\"24px\">\n",
              "    <path d=\"M0 0h24v24H0V0z\" fill=\"none\"/>\n",
              "    <path d=\"M18.56 5.44l.94 2.06.94-2.06 2.06-.94-2.06-.94-.94-2.06-.94 2.06-2.06.94zm-11 1L8.5 8.5l.94-2.06 2.06-.94-2.06-.94L8.5 2.5l-.94 2.06-2.06.94zm10 10l.94 2.06.94-2.06 2.06-.94-2.06-.94-.94-2.06-.94 2.06-2.06.94z\"/><path d=\"M17.41 7.96l-1.37-1.37c-.4-.4-.92-.59-1.43-.59-.52 0-1.04.2-1.43.59L10.3 9.45l-7.72 7.72c-.78.78-.78 2.05 0 2.83L4 21.41c.39.39.9.59 1.41.59.51 0 1.02-.2 1.41-.59l7.78-7.78 2.81-2.81c.8-.78.8-2.07 0-2.86zM5.41 20L4 18.59l7.72-7.72 1.47 1.35L5.41 20z\"/>\n",
              "  </svg>\n",
              "      </button>\n",
              "      \n",
              "  <style>\n",
              "    .colab-df-container {\n",
              "      display:flex;\n",
              "      flex-wrap:wrap;\n",
              "      gap: 12px;\n",
              "    }\n",
              "\n",
              "    .colab-df-convert {\n",
              "      background-color: #E8F0FE;\n",
              "      border: none;\n",
              "      border-radius: 50%;\n",
              "      cursor: pointer;\n",
              "      display: none;\n",
              "      fill: #1967D2;\n",
              "      height: 32px;\n",
              "      padding: 0 0 0 0;\n",
              "      width: 32px;\n",
              "    }\n",
              "\n",
              "    .colab-df-convert:hover {\n",
              "      background-color: #E2EBFA;\n",
              "      box-shadow: 0px 1px 2px rgba(60, 64, 67, 0.3), 0px 1px 3px 1px rgba(60, 64, 67, 0.15);\n",
              "      fill: #174EA6;\n",
              "    }\n",
              "\n",
              "    [theme=dark] .colab-df-convert {\n",
              "      background-color: #3B4455;\n",
              "      fill: #D2E3FC;\n",
              "    }\n",
              "\n",
              "    [theme=dark] .colab-df-convert:hover {\n",
              "      background-color: #434B5C;\n",
              "      box-shadow: 0px 1px 3px 1px rgba(0, 0, 0, 0.15);\n",
              "      filter: drop-shadow(0px 1px 2px rgba(0, 0, 0, 0.3));\n",
              "      fill: #FFFFFF;\n",
              "    }\n",
              "  </style>\n",
              "\n",
              "      <script>\n",
              "        const buttonEl =\n",
              "          document.querySelector('#df-9afc9c0f-5f75-48a7-bee1-dff829762f06 button.colab-df-convert');\n",
              "        buttonEl.style.display =\n",
              "          google.colab.kernel.accessAllowed ? 'block' : 'none';\n",
              "\n",
              "        async function convertToInteractive(key) {\n",
              "          const element = document.querySelector('#df-9afc9c0f-5f75-48a7-bee1-dff829762f06');\n",
              "          const dataTable =\n",
              "            await google.colab.kernel.invokeFunction('convertToInteractive',\n",
              "                                                     [key], {});\n",
              "          if (!dataTable) return;\n",
              "\n",
              "          const docLinkHtml = 'Like what you see? Visit the ' +\n",
              "            '<a target=\"_blank\" href=https://colab.research.google.com/notebooks/data_table.ipynb>data table notebook</a>'\n",
              "            + ' to learn more about interactive tables.';\n",
              "          element.innerHTML = '';\n",
              "          dataTable['output_type'] = 'display_data';\n",
              "          await google.colab.output.renderOutput(dataTable, element);\n",
              "          const docLink = document.createElement('div');\n",
              "          docLink.innerHTML = docLinkHtml;\n",
              "          element.appendChild(docLink);\n",
              "        }\n",
              "      </script>\n",
              "    </div>\n",
              "  </div>\n",
              "  "
            ],
            "text/plain": [
              "          Logistic Regression Random Forest  ...       SVC  AdaBoost\n",
              "Accuracy             0.781167      0.814833  ...  0.781167  0.816667\n",
              "Recall               0.781167      0.814833  ...  0.781167  0.816667\n",
              "Precision            0.610221      0.795513  ...  0.610221  0.798529\n",
              "F1                   0.685193      0.794813  ...  0.685193  0.788229\n",
              "\n",
              "[4 rows x 11 columns]"
            ]
          },
          "metadata": {},
          "execution_count": 24
        }
      ]
    },
    {
      "cell_type": "markdown",
      "metadata": {
        "id": "TVg8UvwVra48"
      },
      "source": [
        "**Hyper-Parameter Tuning**\n",
        "\n",
        "As XGBoost Classifier gives maximum accuracy, we will be tuning its parameters for finding the best result and building the most accurate Machine Learning model"
      ]
    },
    {
      "cell_type": "code",
      "metadata": {
        "colab": {
          "base_uri": "https://localhost:8080/"
        },
        "id": "i5fsedtmFj9Z",
        "outputId": "db9c5c01-3ed5-4f74-f88c-626a08079091"
      },
      "source": [
        "max_depth = [1, 2, 3, 4]\n",
        "min_child_weight = [5, 7, 9]\n",
        "subsample = [0.3 , 0.5]\n",
        "colsample_bytree = [0.7, 0.9]\n",
        "objective = ['reg:squarederror']\n",
        "n_estimators = [150,200,250]\n",
        "\n",
        "hyperparameters = dict(max_depth=max_depth, min_child_weight=min_child_weight,\n",
        "                       colsample_bytree=colsample_bytree, n_estimators = n_estimators,\n",
        "                       subsample=subsample, objective=objective)\n",
        "\n",
        "xgb_model = XGBClassifier()\n",
        "\n",
        "clf = GridSearchCV(xgb_model, hyperparameters, cv=5)\n",
        "\n",
        "best_model = clf.fit(X_train,y_train)\n",
        "\n",
        "print('Best learning_rate:', best_model.best_estimator_.get_params()['learning_rate'])\n",
        "print('Best max_depth:', best_model.best_estimator_.get_params()['max_depth'])\n",
        "print('Best min_child_weight:', best_model.best_estimator_.get_params()['min_child_weight'])\n",
        "print('Best subsample:', best_model.best_estimator_.get_params()['subsample'])\n",
        "print('Best colsample_bytree:', best_model.best_estimator_.get_params()['colsample_bytree'])\n",
        "print('Best n_estimators:', best_model.best_estimator_.get_params()['n_estimators'])\n",
        "print('Best objective:', best_model.best_estimator_.get_params()['objective'])"
      ],
      "execution_count": null,
      "outputs": [
        {
          "output_type": "stream",
          "text": [
            "Best learning_rate: 0.1\n",
            "Best max_depth: 3\n",
            "Best min_child_weight: 5\n",
            "Best subsample: 0.5\n",
            "Best colsample_bytree: 0.7\n",
            "Best n_estimators: 200\n",
            "Best objective: reg:squarederror\n"
          ],
          "name": "stdout"
        }
      ]
    },
    {
      "cell_type": "markdown",
      "metadata": {
        "id": "IQW6w5I_DQgs"
      },
      "source": [
        "**Best Parameters for XGBoost model**\n",
        "\n",
        "*   Best learning_rate: 0.1\n",
        "*   Best max_depth: 3\n",
        "*   Best min_child_weight: 5\n",
        "*   Best subsample: 0.5\n",
        "*   Best colsample_bytree: 0.7\n",
        "*   Best n_estimators: 200\n",
        "*   Objective: reg:squarederror\n",
        "\n",
        "\n",
        "\n",
        "\n",
        "\n",
        "\n",
        "\n",
        "\n",
        "\n",
        "\n",
        "\n",
        "\n",
        "\n",
        "\n",
        "\n",
        "\n",
        "\n",
        "\n",
        "\n",
        "\n"
      ]
    },
    {
      "cell_type": "markdown",
      "metadata": {
        "id": "8GJ_Dt3iDtyV"
      },
      "source": [
        "**Comparing Hypertuned Model with Normal model**"
      ]
    },
    {
      "cell_type": "code",
      "metadata": {
        "colab": {
          "base_uri": "https://localhost:8080/"
        },
        "id": "QZ648nvoDtQC",
        "outputId": "be74ea37-cfb7-491f-8ed8-18ab70e205ec"
      },
      "source": [
        "normal = XGBClassifier()\n",
        "best = XGBClassifier(learning_rate = 0.1, max_depth = 3, min_child_weight = 5,\n",
        "                     subsample = 0.5, colsample_bytree = 0.7,\n",
        "                      n_estimators = 200, objective = 'reg:squarederror')\n",
        "\n",
        "normal.fit(X_train,y_train)\n",
        "best.fit(X_train,y_train)\n",
        "\n",
        "y_pred1 = normal.predict(X_test)\n",
        "y_pred2 = best.predict(X_test)\n",
        "\n",
        "print('Accuracy of Normal XGBoost Model: ',accuracy_score(y_test, y_pred1))\n",
        "print('Accuracy of Best XGBoost Model: ',accuracy_score(y_test, y_pred2))\n",
        "print('Recall Score of Normal XGBoost Model: ',recall_score(y_test, y_pred1))\n",
        "print('Recall Score of Best XGBoost Model: ',recall_score(y_test, y_pred2))"
      ],
      "execution_count": null,
      "outputs": [
        {
          "output_type": "stream",
          "name": "stdout",
          "text": [
            "Accuracy of Normal XGBoost Model:  0.8208333333333333\n",
            "Accuracy of Best XGBoost Model:  0.8223333333333334\n",
            "Recall Score of Normal XGBoost Model:  0.3541507996953541\n",
            "Recall Score of Best XGBoost Model:  0.3571972581873572\n"
          ]
        }
      ]
    },
    {
      "cell_type": "code",
      "source": [
        "import pickle\n",
        "\n",
        "with open('model_pkl', 'wb') as files:\n",
        "    pickle.dump(best, files)"
      ],
      "metadata": {
        "id": "RBWjBTTHekpx"
      },
      "execution_count": null,
      "outputs": []
    },
    {
      "cell_type": "markdown",
      "metadata": {
        "id": "rkLiVd13JKwC"
      },
      "source": [
        "**Finding the most Important Features in a XGBoost Classifier**"
      ]
    },
    {
      "cell_type": "code",
      "metadata": {
        "id": "sdRpQF-Puxyn"
      },
      "source": [
        "features = ['LIMIT_BAL', 'SEX', 'EDUCATION', 'MARRIAGE', 'AGE', 'PAY_1', 'PAY_2',\n",
        "       'PAY_3', 'PAY_4', 'PAY_5', 'PAY_6', 'BILL_AMT1', 'BILL_AMT2',\n",
        "       'BILL_AMT3', 'BILL_AMT4', 'BILL_AMT5', 'BILL_AMT6', 'PAY_AMT1',\n",
        "       'PAY_AMT2', 'PAY_AMT3', 'PAY_AMT4', 'PAY_AMT5', 'PAY_AMT6']"
      ],
      "execution_count": null,
      "outputs": []
    },
    {
      "cell_type": "code",
      "metadata": {
        "id": "JAUdk40MtWrJ",
        "colab": {
          "base_uri": "https://localhost:8080/",
          "height": 762
        },
        "outputId": "a4aca73b-d252-4114-9134-5011cde32feb"
      },
      "source": [
        "def get_feature_importance(clsf, ftrs):\n",
        "    imp = clsf.feature_importances_.tolist()\n",
        "    feat = ftrs\n",
        "    result = pd.DataFrame({'feat':feat,'score':imp})\n",
        "    result = result.sort_values(by=['score'],ascending=False)\n",
        "    return result\n",
        "\n",
        "get_feature_importance(best, features)"
      ],
      "execution_count": null,
      "outputs": [
        {
          "output_type": "execute_result",
          "data": {
            "text/html": [
              "<div>\n",
              "<style scoped>\n",
              "    .dataframe tbody tr th:only-of-type {\n",
              "        vertical-align: middle;\n",
              "    }\n",
              "\n",
              "    .dataframe tbody tr th {\n",
              "        vertical-align: top;\n",
              "    }\n",
              "\n",
              "    .dataframe thead th {\n",
              "        text-align: right;\n",
              "    }\n",
              "</style>\n",
              "<table border=\"1\" class=\"dataframe\">\n",
              "  <thead>\n",
              "    <tr style=\"text-align: right;\">\n",
              "      <th></th>\n",
              "      <th>feat</th>\n",
              "      <th>score</th>\n",
              "    </tr>\n",
              "  </thead>\n",
              "  <tbody>\n",
              "    <tr>\n",
              "      <th>5</th>\n",
              "      <td>PAY_1</td>\n",
              "      <td>0.333233</td>\n",
              "    </tr>\n",
              "    <tr>\n",
              "      <th>6</th>\n",
              "      <td>PAY_2</td>\n",
              "      <td>0.135298</td>\n",
              "    </tr>\n",
              "    <tr>\n",
              "      <th>8</th>\n",
              "      <td>PAY_4</td>\n",
              "      <td>0.058852</td>\n",
              "    </tr>\n",
              "    <tr>\n",
              "      <th>7</th>\n",
              "      <td>PAY_3</td>\n",
              "      <td>0.052785</td>\n",
              "    </tr>\n",
              "    <tr>\n",
              "      <th>9</th>\n",
              "      <td>PAY_5</td>\n",
              "      <td>0.038839</td>\n",
              "    </tr>\n",
              "    <tr>\n",
              "      <th>10</th>\n",
              "      <td>PAY_6</td>\n",
              "      <td>0.033695</td>\n",
              "    </tr>\n",
              "    <tr>\n",
              "      <th>17</th>\n",
              "      <td>PAY_AMT1</td>\n",
              "      <td>0.032621</td>\n",
              "    </tr>\n",
              "    <tr>\n",
              "      <th>0</th>\n",
              "      <td>LIMIT_BAL</td>\n",
              "      <td>0.026829</td>\n",
              "    </tr>\n",
              "    <tr>\n",
              "      <th>19</th>\n",
              "      <td>PAY_AMT3</td>\n",
              "      <td>0.023864</td>\n",
              "    </tr>\n",
              "    <tr>\n",
              "      <th>2</th>\n",
              "      <td>EDUCATION</td>\n",
              "      <td>0.023857</td>\n",
              "    </tr>\n",
              "    <tr>\n",
              "      <th>20</th>\n",
              "      <td>PAY_AMT4</td>\n",
              "      <td>0.023703</td>\n",
              "    </tr>\n",
              "    <tr>\n",
              "      <th>1</th>\n",
              "      <td>SEX</td>\n",
              "      <td>0.022244</td>\n",
              "    </tr>\n",
              "    <tr>\n",
              "      <th>21</th>\n",
              "      <td>PAY_AMT5</td>\n",
              "      <td>0.020569</td>\n",
              "    </tr>\n",
              "    <tr>\n",
              "      <th>18</th>\n",
              "      <td>PAY_AMT2</td>\n",
              "      <td>0.019777</td>\n",
              "    </tr>\n",
              "    <tr>\n",
              "      <th>22</th>\n",
              "      <td>PAY_AMT6</td>\n",
              "      <td>0.019132</td>\n",
              "    </tr>\n",
              "    <tr>\n",
              "      <th>11</th>\n",
              "      <td>BILL_AMT1</td>\n",
              "      <td>0.018922</td>\n",
              "    </tr>\n",
              "    <tr>\n",
              "      <th>12</th>\n",
              "      <td>BILL_AMT2</td>\n",
              "      <td>0.017560</td>\n",
              "    </tr>\n",
              "    <tr>\n",
              "      <th>13</th>\n",
              "      <td>BILL_AMT3</td>\n",
              "      <td>0.017393</td>\n",
              "    </tr>\n",
              "    <tr>\n",
              "      <th>3</th>\n",
              "      <td>MARRIAGE</td>\n",
              "      <td>0.017295</td>\n",
              "    </tr>\n",
              "    <tr>\n",
              "      <th>16</th>\n",
              "      <td>BILL_AMT6</td>\n",
              "      <td>0.016048</td>\n",
              "    </tr>\n",
              "    <tr>\n",
              "      <th>15</th>\n",
              "      <td>BILL_AMT5</td>\n",
              "      <td>0.015975</td>\n",
              "    </tr>\n",
              "    <tr>\n",
              "      <th>4</th>\n",
              "      <td>AGE</td>\n",
              "      <td>0.015770</td>\n",
              "    </tr>\n",
              "    <tr>\n",
              "      <th>14</th>\n",
              "      <td>BILL_AMT4</td>\n",
              "      <td>0.015740</td>\n",
              "    </tr>\n",
              "  </tbody>\n",
              "</table>\n",
              "</div>"
            ],
            "text/plain": [
              "         feat     score\n",
              "5       PAY_1  0.333233\n",
              "6       PAY_2  0.135298\n",
              "8       PAY_4  0.058852\n",
              "7       PAY_3  0.052785\n",
              "9       PAY_5  0.038839\n",
              "10      PAY_6  0.033695\n",
              "17   PAY_AMT1  0.032621\n",
              "0   LIMIT_BAL  0.026829\n",
              "19   PAY_AMT3  0.023864\n",
              "2   EDUCATION  0.023857\n",
              "20   PAY_AMT4  0.023703\n",
              "1         SEX  0.022244\n",
              "21   PAY_AMT5  0.020569\n",
              "18   PAY_AMT2  0.019777\n",
              "22   PAY_AMT6  0.019132\n",
              "11  BILL_AMT1  0.018922\n",
              "12  BILL_AMT2  0.017560\n",
              "13  BILL_AMT3  0.017393\n",
              "3    MARRIAGE  0.017295\n",
              "16  BILL_AMT6  0.016048\n",
              "15  BILL_AMT5  0.015975\n",
              "4         AGE  0.015770\n",
              "14  BILL_AMT4  0.015740"
            ]
          },
          "metadata": {
            "tags": []
          },
          "execution_count": 45
        }
      ]
    },
    {
      "cell_type": "markdown",
      "metadata": {
        "id": "8oEj43vix_12"
      },
      "source": [
        "# **Building Deep Learning Models**"
      ]
    },
    {
      "cell_type": "code",
      "metadata": {
        "id": "tnySLcBbhhck"
      },
      "source": [
        "import tensorflow as tf\n",
        "from tensorflow import keras\n",
        "from tensorflow.keras import layers"
      ],
      "execution_count": null,
      "outputs": []
    },
    {
      "cell_type": "code",
      "metadata": {
        "colab": {
          "base_uri": "https://localhost:8080/"
        },
        "id": "0053qZ4WheMO",
        "outputId": "c95f1a36-4a85-4ac2-b5d1-ed1e7020d795"
      },
      "source": [
        "model = keras.Sequential()\n",
        "model.add(layers.Dense(50, input_dim=(23), activation='relu'))\n",
        "model.add(layers.Dense(40, activation='relu'))\n",
        "model.add(layers.Dense(30, activation='relu'))\n",
        "model.add(layers.Dense(20, activation='relu'))\n",
        "model.add(layers.Dense(10, activation='relu'))\n",
        "model.add(layers.Dense(1,  activation='sigmoid'))\n",
        "\n",
        "model.compile(loss='categorical_crossentropy', optimizer='adam', metrics=['accuracy'])\n",
        "\n",
        "epochs = 100\n",
        "batch_size = 512\n",
        "\n",
        "history = model.fit(X_train, y_train, epochs=epochs, batch_size=batch_size,validation_split=0.1,callbacks=[keras.callbacks.EarlyStopping(monitor='val_loss', patience=3, min_delta=0.0001)])"
      ],
      "execution_count": null,
      "outputs": [
        {
          "output_type": "stream",
          "text": [
            "Epoch 1/100\n",
            "43/43 [==============================] - 4s 18ms/step - loss: 0.0000e+00 - accuracy: 0.7341 - val_loss: 0.0000e+00 - val_accuracy: 0.7738\n",
            "Epoch 2/100\n",
            "43/43 [==============================] - 0s 5ms/step - loss: 0.0000e+00 - accuracy: 0.7795 - val_loss: 0.0000e+00 - val_accuracy: 0.7738\n",
            "Epoch 3/100\n",
            "43/43 [==============================] - 0s 5ms/step - loss: 0.0000e+00 - accuracy: 0.7793 - val_loss: 0.0000e+00 - val_accuracy: 0.7738\n",
            "Epoch 4/100\n",
            "43/43 [==============================] - 0s 5ms/step - loss: 0.0000e+00 - accuracy: 0.7788 - val_loss: 0.0000e+00 - val_accuracy: 0.7738\n"
          ],
          "name": "stdout"
        }
      ]
    },
    {
      "cell_type": "code",
      "metadata": {
        "id": "ZxActKYQl-Db",
        "colab": {
          "base_uri": "https://localhost:8080/"
        },
        "outputId": "87106244-4c90-461d-c0a1-93555e287184"
      },
      "source": [
        "model.summary()"
      ],
      "execution_count": null,
      "outputs": [
        {
          "output_type": "stream",
          "text": [
            "Model: \"sequential\"\n",
            "_________________________________________________________________\n",
            "Layer (type)                 Output Shape              Param #   \n",
            "=================================================================\n",
            "dense (Dense)                (None, 50)                1200      \n",
            "_________________________________________________________________\n",
            "dense_1 (Dense)              (None, 40)                2040      \n",
            "_________________________________________________________________\n",
            "dense_2 (Dense)              (None, 30)                1230      \n",
            "_________________________________________________________________\n",
            "dense_3 (Dense)              (None, 20)                620       \n",
            "_________________________________________________________________\n",
            "dense_4 (Dense)              (None, 10)                210       \n",
            "_________________________________________________________________\n",
            "dense_5 (Dense)              (None, 1)                 11        \n",
            "=================================================================\n",
            "Total params: 5,311\n",
            "Trainable params: 5,311\n",
            "Non-trainable params: 0\n",
            "_________________________________________________________________\n"
          ],
          "name": "stdout"
        }
      ]
    },
    {
      "cell_type": "code",
      "metadata": {
        "colab": {
          "base_uri": "https://localhost:8080/"
        },
        "id": "SbaeVqggkMok",
        "outputId": "27b4d09c-2eff-49e5-fef3-b91094f39c5d"
      },
      "source": [
        "model.evaluate(np.array(X_test),np.array(y_test))"
      ],
      "execution_count": null,
      "outputs": [
        {
          "output_type": "stream",
          "text": [
            "188/188 [==============================] - 1s 3ms/step - loss: 0.0000e+00 - accuracy: 0.7812\n"
          ],
          "name": "stdout"
        },
        {
          "output_type": "execute_result",
          "data": {
            "text/plain": [
              "[0.0, 0.781166672706604]"
            ]
          },
          "metadata": {
            "tags": []
          },
          "execution_count": 20
        }
      ]
    },
    {
      "cell_type": "code",
      "metadata": {
        "id": "v4ljekUFkT2k"
      },
      "source": [
        "y_pred=model.predict(np.array(X_test))"
      ],
      "execution_count": null,
      "outputs": []
    },
    {
      "cell_type": "code",
      "metadata": {
        "colab": {
          "base_uri": "https://localhost:8080/"
        },
        "id": "jW8sF7ijkc82",
        "outputId": "b9310e42-dc79-404f-bdca-974b743b4cc7"
      },
      "source": [
        "print('Accuracy Score: ', accuracy_score(y_test, y_pred))\n",
        "print('Recall Score: ', recall_score(y_test, y_pred,average='weighted'))\n",
        "print('Precision Score', precision_score(y_test, y_pred,average='weighted'))\n",
        "print('F1 Score', f1_score(y_test, y_pred,average='weighted'))"
      ],
      "execution_count": null,
      "outputs": [
        {
          "output_type": "stream",
          "text": [
            "Accuracy Score:  0.7811666666666667\n",
            "Recall Score:  0.7811666666666667\n",
            "Precision Score 0.6102213611111111\n",
            "F1 Score 0.6851928823180812\n"
          ],
          "name": "stdout"
        }
      ]
    },
    {
      "cell_type": "markdown",
      "source": [
        "# Flask App"
      ],
      "metadata": {
        "id": "74UhVj_SbHEC"
      }
    },
    {
      "cell_type": "code",
      "source": [
        "!pip install flask gevent requests pillow"
      ],
      "metadata": {
        "colab": {
          "base_uri": "https://localhost:8080/"
        },
        "id": "JnHAz67xbPhd",
        "outputId": "45b408d5-2897-44c2-97b5-77ba80531405"
      },
      "execution_count": null,
      "outputs": [
        {
          "output_type": "stream",
          "name": "stdout",
          "text": [
            "Requirement already satisfied: flask in /usr/local/lib/python3.7/dist-packages (1.1.4)\n",
            "Collecting gevent\n",
            "  Downloading gevent-21.12.0-cp37-cp37m-manylinux_2_12_x86_64.manylinux2010_x86_64.whl (5.8 MB)\n",
            "\u001b[K     |████████████████████████████████| 5.8 MB 3.9 MB/s \n",
            "\u001b[?25hRequirement already satisfied: requests in /usr/local/lib/python3.7/dist-packages (2.23.0)\n",
            "Requirement already satisfied: pillow in /usr/local/lib/python3.7/dist-packages (7.1.2)\n",
            "Requirement already satisfied: Werkzeug<2.0,>=0.15 in /usr/local/lib/python3.7/dist-packages (from flask) (1.0.1)\n",
            "Requirement already satisfied: itsdangerous<2.0,>=0.24 in /usr/local/lib/python3.7/dist-packages (from flask) (1.1.0)\n",
            "Requirement already satisfied: click<8.0,>=5.1 in /usr/local/lib/python3.7/dist-packages (from flask) (7.1.2)\n",
            "Requirement already satisfied: Jinja2<3.0,>=2.10.1 in /usr/local/lib/python3.7/dist-packages (from flask) (2.11.3)\n",
            "Requirement already satisfied: MarkupSafe>=0.23 in /usr/local/lib/python3.7/dist-packages (from Jinja2<3.0,>=2.10.1->flask) (2.0.1)\n",
            "Requirement already satisfied: greenlet<2.0,>=1.1.0 in /usr/local/lib/python3.7/dist-packages (from gevent) (1.1.2)\n",
            "Collecting zope.interface\n",
            "  Downloading zope.interface-5.4.0-cp37-cp37m-manylinux2010_x86_64.whl (251 kB)\n",
            "\u001b[K     |████████████████████████████████| 251 kB 55.2 MB/s \n",
            "\u001b[?25hRequirement already satisfied: setuptools in /usr/local/lib/python3.7/dist-packages (from gevent) (57.4.0)\n",
            "Collecting zope.event\n",
            "  Downloading zope.event-4.5.0-py2.py3-none-any.whl (6.8 kB)\n",
            "Requirement already satisfied: idna<3,>=2.5 in /usr/local/lib/python3.7/dist-packages (from requests) (2.10)\n",
            "Requirement already satisfied: certifi>=2017.4.17 in /usr/local/lib/python3.7/dist-packages (from requests) (2021.10.8)\n",
            "Requirement already satisfied: urllib3!=1.25.0,!=1.25.1,<1.26,>=1.21.1 in /usr/local/lib/python3.7/dist-packages (from requests) (1.24.3)\n",
            "Requirement already satisfied: chardet<4,>=3.0.2 in /usr/local/lib/python3.7/dist-packages (from requests) (3.0.4)\n",
            "Installing collected packages: zope.interface, zope.event, gevent\n",
            "Successfully installed gevent-21.12.0 zope.event-4.5.0 zope.interface-5.4.0\n"
          ]
        }
      ]
    },
    {
      "cell_type": "code",
      "source": [
        "procfile = 'web: gunicorn app:app'\n",
        "procfiles= open(\"/content/Procfile\",\"w\")\n",
        "procfiles.write(procfile)\n",
        "procfiles.close()"
      ],
      "metadata": {
        "id": "fvgJzqk1bRmb"
      },
      "execution_count": null,
      "outputs": []
    },
    {
      "cell_type": "code",
      "source": [
        "!pip install flask-ngrok\n",
        "from flask_ngrok import run_with_ngrok\n",
        "from flask import Flask"
      ],
      "metadata": {
        "colab": {
          "base_uri": "https://localhost:8080/"
        },
        "id": "GIS_joLabMnc",
        "outputId": "550aae4b-6fb5-4be6-b12e-4fe12333ad08"
      },
      "execution_count": null,
      "outputs": [
        {
          "output_type": "stream",
          "name": "stdout",
          "text": [
            "Collecting flask-ngrok\n",
            "  Downloading flask_ngrok-0.0.25-py3-none-any.whl (3.1 kB)\n",
            "Requirement already satisfied: Flask>=0.8 in /usr/local/lib/python3.7/dist-packages (from flask-ngrok) (1.1.4)\n",
            "Requirement already satisfied: requests in /usr/local/lib/python3.7/dist-packages (from flask-ngrok) (2.23.0)\n",
            "Requirement already satisfied: click<8.0,>=5.1 in /usr/local/lib/python3.7/dist-packages (from Flask>=0.8->flask-ngrok) (7.1.2)\n",
            "Requirement already satisfied: Werkzeug<2.0,>=0.15 in /usr/local/lib/python3.7/dist-packages (from Flask>=0.8->flask-ngrok) (1.0.1)\n",
            "Requirement already satisfied: itsdangerous<2.0,>=0.24 in /usr/local/lib/python3.7/dist-packages (from Flask>=0.8->flask-ngrok) (1.1.0)\n",
            "Requirement already satisfied: Jinja2<3.0,>=2.10.1 in /usr/local/lib/python3.7/dist-packages (from Flask>=0.8->flask-ngrok) (2.11.3)\n",
            "Requirement already satisfied: MarkupSafe>=0.23 in /usr/local/lib/python3.7/dist-packages (from Jinja2<3.0,>=2.10.1->Flask>=0.8->flask-ngrok) (2.0.1)\n",
            "Requirement already satisfied: chardet<4,>=3.0.2 in /usr/local/lib/python3.7/dist-packages (from requests->flask-ngrok) (3.0.4)\n",
            "Requirement already satisfied: urllib3!=1.25.0,!=1.25.1,<1.26,>=1.21.1 in /usr/local/lib/python3.7/dist-packages (from requests->flask-ngrok) (1.24.3)\n",
            "Requirement already satisfied: idna<3,>=2.5 in /usr/local/lib/python3.7/dist-packages (from requests->flask-ngrok) (2.10)\n",
            "Requirement already satisfied: certifi>=2017.4.17 in /usr/local/lib/python3.7/dist-packages (from requests->flask-ngrok) (2021.10.8)\n",
            "Installing collected packages: flask-ngrok\n",
            "Successfully installed flask-ngrok-0.0.25\n"
          ]
        }
      ]
    },
    {
      "cell_type": "code",
      "source": [
        "a =  \"\"\"<html>\n",
        "    <head>\n",
        "        <title>{{ title }} Credit Risk Analysis Server </title>\n",
        "        <link rel=\"stylesheet\" type=\"text/css\" href=\"{{ url_for('static', filename='style.css') }}\">\n",
        "    </head>\n",
        "    <body>\n",
        "        <form method=\"POST\">\n",
        "        \n",
        "            <textarea name=\"LIMIT_BAL\" placeholder=\"Balance Limit\" rows=\"15\" cols=\"10\"></textarea><br><br>\n",
        "            <textarea name=\"SEX\" placeholder=\"Gender\" rows=\"10\" cols=\"15\"></textarea><br><br>\n",
        "            <textarea name=\"EDUCATION\" placeholder=\"Educational Qualification\" rows=\"15\" cols=\"10\"></textarea><br><br>\n",
        "            <textarea name=\"MARRIAGE\" placeholder=\"Marital Status\" rows=\"15\" cols=\"10\"></textarea><br><br>\n",
        "            <textarea name=\"AGE\" placeholder=\"AGE\" rows=\"15\" cols=\"10\"></textarea><br><br>\n",
        "            <textarea name=\"PAY_1\" placeholder=\"PAY_1\" rows=\"15\" cols=\"10\"></textarea><br><br>\n",
        "            <textarea name=\"PAY_2\" placeholder=\"PAY_2\" rows=\"15\" cols=\"10\"></textarea><br><br>\n",
        "            <textarea name=\"PAY_3\" placeholder=\"PAY_3\" rows=\"15\" cols=\"10\"></textarea><br><br>\n",
        "            <textarea name=\"PAY_4\" placeholder=\"PAY_4\" rows=\"15\" cols=\"10\"></textarea><br><br>\n",
        "            <textarea name=\"PAY_5\" placeholder=\"PAY_5\" rows=\"15\" cols=\"10\"></textarea><br><br>\n",
        "            <textarea name=\"PAY_6\" placeholder=\"PAY_6\" rows=\"15\" cols=\"10\"></textarea><br><br>\n",
        "            <textarea name=\"BILL_AMT1\" placeholder=\"BILL_AMT1\" rows=\"15\" cols=\"10\"></textarea><br><br>\n",
        "            <textarea name=\"BILL_AMT2\" placeholder=\"BILL_AMT2\" rows=\"15\" cols=\"10\"></textarea><br><br>\n",
        "            <textarea name=\"BILL_AMT3\" placeholder=\"BILL_AMT3\" rows=\"15\" cols=\"10\"></textarea><br><br>\n",
        "            <textarea name=\"BILL_AMT4\" placeholder=\"BILL_AMT4\" rows=\"15\" cols=\"10\"></textarea><br><br>\n",
        "            <textarea name=\"BILL_AMT5\" placeholder=\"BILL_AMT5\" rows=\"15\" cols=\"10\"></textarea><br><br>\n",
        "            <textarea name=\"BILL_AMT6\" placeholder=\"BILL_AMT6\" rows=\"15\" cols=\"10\"></textarea><br><br>\n",
        "            <textarea name=\"PAY_AMT1\" placeholder=\"PAY_AMT1\" rows=\"15\" cols=\"10\"></textarea><br><br>\n",
        "            <textarea name=\"PAY_AMT2\" placeholder=\"PAY_AMT2\" rows=\"15\" cols=\"10\"></textarea><br><br>\n",
        "            <textarea name=\"PAY_AMT3\" placeholder=\"PAY_AMT3\" rows=\"15\" cols=\"10\"></textarea><br><br>\n",
        "            <textarea name=\"PAY_AMT4\" placeholder=\"PAY_AMT4\" rows=\"15\" cols=\"10\"></textarea><br><br>\n",
        "            <textarea name=\"PAY_AMT5\" placeholder=\"PAY_AMT5\" rows=\"15\" cols=\"10\"></textarea><br><br>\n",
        "            <textarea name=\"PAY_AMT6\" placeholder=\"PAY_AMT6\" rows=\"15\" cols=\"10\"></textarea><br><br>\n",
        "        \n",
        "            <input class=\"example_a\" type=\"submit\">\n",
        "        </form>\n",
        "        {% if final %}\n",
        "        <div>\n",
        "            <h2>The Probability of the customer defaulting is {{ final }} !</h2>\n",
        "            {% else %}\n",
        "            <p></p>\n",
        "            {% endif %}\n",
        "        </div>\n",
        "        <span>by Harshit Bhavnani</span>\n",
        "    </body>\n",
        "</html>\"\"\""
      ],
      "metadata": {
        "id": "II6oD3I3l1Yt"
      },
      "execution_count": null,
      "outputs": []
    },
    {
      "cell_type": "code",
      "source": [
        "!mkdir '/content/templates'\n",
        "!mkdir '/content/uploads'\n",
        "\n",
        "Html_file = open(\"/content/templates/form.html\", \"w\")\n",
        "Html_file.write(a)\n",
        "Html_file.close()"
      ],
      "metadata": {
        "id": "pJKL00Zcbcyn"
      },
      "execution_count": null,
      "outputs": []
    },
    {
      "cell_type": "code",
      "source": [
        "import os\n",
        "from flask import Flask, render_template, request\n",
        "\n",
        "app = Flask(__name__)\n",
        "run_with_ngrok(app)\n",
        "app.config['UPLOADS'] = 'uploads'\n",
        "\n",
        "@app.route('/')\n",
        "def my_form():\n",
        "    return render_template('form.html')\n",
        "\n",
        "def predictions(arr):\n",
        "    with open('model_pkl' , 'rb') as f: \n",
        "      mymodel = pickle.load(f)\n",
        "    ans = mymodel.predict_proba(arr)\n",
        "    return ans\n",
        "\n",
        "@app.route('/', methods=['POST'])\n",
        "def my_form_post():\n",
        "    LIMIT_BAL = request.form['LIMIT_BAL']\n",
        "    SEX = request.form['SEX']\n",
        "    EDUCATION = request.form['EDUCATION']\n",
        "    MARRIAGE = request.form['MARRIAGE']\n",
        "    AGE = request.form['AGE']\n",
        "    PAY_1 = request.form['PAY_1']\n",
        "    PAY_2 = request.form['PAY_2']\n",
        "    PAY_3 = request.form['PAY_3']\n",
        "    PAY_4 = request.form['PAY_4']\n",
        "    PAY_5 = request.form['PAY_5']\n",
        "    PAY_6 = request.form['PAY_6']\n",
        "    BILL_AMT_1 = request.form['BILL_AMT_1']\n",
        "    BILL_AMT_2 = request.form['BILL_AMT_2']\n",
        "    BILL_AMT_3 = request.form['BILL_AMT_3']\n",
        "    BILL_AMT_4 = request.form['BILL_AMT_4']\n",
        "    BILL_AMT_5 = request.form['BILL_AMT_5']\n",
        "    BILL_AMT_6 = request.form['BILL_AMT_6']\n",
        "    PAY_AMT_1 = request.form['PAY_AMT_1']\n",
        "    PAY_AMT_2 = request.form['PAY_AMT_2']\n",
        "    PAY_AMT_3 = request.form['PAY_AMT_3']\n",
        "    PAY_AMT_4 = request.form['PAY_AMT_4']\n",
        "    PAY_AMT_5 = request.form['PAY_AMT_5']\n",
        "    PAY_AMT_6 = request.form['PAY_AMT_6']\n",
        "    \n",
        "    arr = [LIMIT_BAL, SEX, EDUCATION, MARRIAGE, AGE, PAY_1, PAY_2,\n",
        "       PAY_3, PAY_4, PAY_5, PAY_6, BILL_AMT1, BILL_AMT2,\n",
        "       BILL_AMT3, BILL_AMT4, BILL_AMT5, BILL_AMT6, PAY_AMT1,\n",
        "       PAY_AMT2, PAY_AMT3, PAY_AMT4, PAY_AMT5, PAY_AMT6]\n",
        "\n",
        "    answer = predictions(arr)\n",
        "\n",
        "    return render_template('form.html', final=answer, text1=text1)\n",
        "\n",
        "if __name__=='__main__':\n",
        "    app.run()"
      ],
      "metadata": {
        "id": "oPXyEiqFodee"
      },
      "execution_count": null,
      "outputs": []
    }
  ]
}